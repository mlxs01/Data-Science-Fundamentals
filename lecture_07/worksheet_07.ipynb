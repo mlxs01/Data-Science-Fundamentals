{
 "cells": [
  {
   "attachments": {},
   "cell_type": "markdown",
   "metadata": {},
   "source": [
    "# Worksheet 07\n",
    "\n",
    "Name:  Michelle Sun\n",
    "UID: U14824452\n",
    "\n",
    "### Topics\n",
    "\n",
    "- Density-Based Clustering\n",
    "\n",
    "### Density-Based Clustering\n",
    "\n",
    "Follow along with the live coding of the DBScan algorithm."
   ]
  },
  {
   "cell_type": "code",
   "execution_count": null,
   "metadata": {},
   "outputs": [],
   "source": [
    "import numpy as np\n",
    "import matplotlib.pyplot as plt\n",
    "import sklearn.datasets as datasets\n",
    "\n",
    "centers = [[1, 1], [-1, -1], [1, -1]]\n",
    "X, _ = datasets.make_blobs(n_samples=750, centers=centers, cluster_std=0.4,\n",
    "                            random_state=0)\n",
    "plt.scatter(X[:,0],X[:,1],s=10, alpha=0.8)\n",
    "plt.show()\n",
    "\n",
    "class DBC():\n",
    "\n",
    "    def __init__(self, dataset, min_pts, epsilon):\n",
    "        self.dataset = dataset\n",
    "        self.min_pts = min_pts\n",
    "        self.epsilon = epsilon\n",
    "        self.assignment = [0 for _ in range(len(self.dataset))]\n",
    "\n",
    "    def get_neighboorhood(self, i): # used to find all neighbors of i point\n",
    "        neighborhood = []\n",
    "        for j in range(len(self.dataset)):\n",
    "            if self.distance(i, j) <= self.epsilon and i != j:\n",
    "                neighborhood.append(j)\n",
    "        return neighborhood\n",
    "\n",
    "    def distance(self, i, j):\n",
    "        return np.linalg.norm(self.dataset[i] - self.dataset[j])\n",
    "    \n",
    "    def is_core(self, i): # returns bool based on how many neighboors a point has\n",
    "        return len(self.get_neighboorhood(i)) >= self.min_pts\n",
    "\n",
    "    def assign(self, i, clus_num): #puts a point into the correct cluster\n",
    "        self.assignment[i] = clus_num\n",
    "        neighbor_queue = self.get_neighboorhood(i) #start a queue from i to look at next neighboors\n",
    "\n",
    "        while neighbor_queue:\n",
    "            next_point = neighbor_queue.pop()\n",
    "            if self.assignment[next_point] != 0:\n",
    "                # dups can occur when adding neighbors when those neighbors haven't been assigned yet\n",
    "                continue #this means already assigned\n",
    "            self.assignment[next_point] = clus_num\n",
    "\n",
    "            if self.is_core(next_point): #is this neighbor of i, is it also a core point\n",
    "                next_neighboorhood = self.get_neighboorhood(next_point)\n",
    "                neighbor_queue += [i for i in next_neighboorhood if self.assignment[i] == 0]\n",
    "            \n",
    "        return \n",
    "\n",
    "    def dbscan(self):\n",
    "        \"\"\"\n",
    "        returns a list of assignments. The index of the\n",
    "        assignment should match the index of the data point\n",
    "        in the dataset.\n",
    "        \"\"\"\n",
    "\n",
    "        clus_num = 1\n",
    "        for i in range(len(self.dataset)):\n",
    "            if self.is_core(i) and self.assignment[i] == 0: #just so there is unique and not assigned\n",
    "                #start assign process\n",
    "                self.assign(i, clus_num)\n",
    "                clus_num += 1\n",
    "\n",
    "        \n",
    "        return self.assignment\n",
    "    \n",
    "\n",
    "clustering = DBC(X, 3, .2).dbscan()\n",
    "colors = np.array([x for x in 'bgrcmykbgrcmykbgrcmykbgrcmyk'])\n",
    "colors = np.hstack([colors] * 40)\n",
    "plt.scatter(X[:, 0], X[:, 1], color=colors[clustering].tolist(), s=10, alpha=0.8)\n",
    "plt.show()"
   ]
  },
  {
   "cell_type": "code",
   "execution_count": null,
   "metadata": {},
   "outputs": [],
   "source": []
  }
 ],
 "metadata": {
  "kernelspec": {
   "display_name": "Python 3",
   "language": "python",
   "name": "python3"
  },
  "language_info": {
   "codemirror_mode": {
    "name": "ipython",
    "version": 3
   },
   "file_extension": ".py",
   "mimetype": "text/x-python",
   "name": "python",
   "nbconvert_exporter": "python",
   "pygments_lexer": "ipython3",
   "version": "3.9.7"
  },
  "orig_nbformat": 4,
  "vscode": {
   "interpreter": {
    "hash": "76ca05dc3ea24b2e3b98cdb7774adfbb40773424bf5109b477fd793f623715af"
   }
  }
 },
 "nbformat": 4,
 "nbformat_minor": 2
}
